{
 "cells": [
  {
   "cell_type": "code",
   "execution_count": 5,
   "metadata": {},
   "outputs": [],
   "source": [
    "from src.utils import *"
   ]
  },
  {
   "cell_type": "markdown",
   "metadata": {},
   "source": [
    "### Get Direct Vapor Pressure Prediction"
   ]
  },
  {
   "cell_type": "code",
   "execution_count": 6,
   "metadata": {},
   "outputs": [
    {
     "name": "stdout",
     "output_type": "stream",
     "text": [
      "The vapor pressure of CCO at 323.0 K is 30.17 kPa\n",
      "The vapor pressure of c1ccccc1O at 293.15 K is 0.03 kPa\n"
     ]
    }
   ],
   "source": [
    "# Define inputs\n",
    "smiles_list = ['CCO', 'c1ccccc1O'] # Define smiles for Ethanol and Phenol\n",
    "temperature_list = [323.0, 293.15] # Define desired temperatures\n",
    "\n",
    "assert(len(smiles_list) == len(temperature_list)), 'Number of SMILES and temperatures must be equal'\n",
    "\n",
    "# Define predictor\n",
    "predictor = GRAPPAdirect()\n",
    "\n",
    "# Make prediction\n",
    "prediction = predictor(smiles_list, temperature_list)\n",
    "\n",
    "# Print prediction\n",
    "for i in range(len(smiles_list)):\n",
    "    print(f'The vapor pressure of {smiles_list[i]} at {temperature_list[i]} K is {prediction[i]:.2f} kPa')"
   ]
  },
  {
   "cell_type": "markdown",
   "metadata": {},
   "source": [
    "### Get Antoine parameter prediction "
   ]
  },
  {
   "cell_type": "code",
   "execution_count": 7,
   "metadata": {},
   "outputs": [
    {
     "name": "stdout",
     "output_type": "stream",
     "text": [
      "The Antoine parameters of CCO are: A = 15.20, B = 2895.70, C = -77.41\n",
      "The Antoine parameters of c1ccccc1O are: A = 15.53, B = 4158.42, C = -73.43\n"
     ]
    }
   ],
   "source": [
    "# Define inputs\n",
    "smiles_list = ['CCO', 'c1ccccc1O']\n",
    "# Define predictor\n",
    "predictor = GRAPPAantoine()\n",
    "\n",
    "# Make prediction\n",
    "prediction = predictor(smiles_list)\n",
    "\n",
    "# Print prediction\n",
    "for i in range(len(smiles_list)):\n",
    "    print(f\"The Antoine parameters of {smiles_list[i]} are: A = {prediction[i][0]:.2f}, B = {prediction[i][1]:.2f}, C = {prediction[i][2]:.2f}\")"
   ]
  },
  {
   "cell_type": "markdown",
   "metadata": {},
   "source": [
    "### Get Normal Boiling Point Prediction"
   ]
  },
  {
   "cell_type": "code",
   "execution_count": 11,
   "metadata": {},
   "outputs": [
    {
     "name": "stdout",
     "output_type": "stream",
     "text": [
      "The normal boiling point of CCO is 351.13 K.\n",
      "The normal boiling point of c1ccccc1O is 454.44 K.\n",
      "The normal boiling point of COC is 248.54 K.\n"
     ]
    }
   ],
   "source": [
    "# Define inputs\n",
    "smiles_list = ['CCO', 'c1ccccc1O', 'COC']\n",
    "\n",
    "# Define predictor\n",
    "predictor = GRAPPAnormalbp()\n",
    "\n",
    "# Make prediction\n",
    "prediction = predictor(smiles_list)\n",
    "\n",
    "# Print prediction\n",
    "for i in range(len(smiles_list)):\n",
    "    print(f\"The normal boiling point of {smiles_list[i]} is {prediction[i]:.2f} K.\")"
   ]
  }
 ],
 "metadata": {
  "kernelspec": {
   "display_name": "ml_env",
   "language": "python",
   "name": "python3"
  },
  "language_info": {
   "codemirror_mode": {
    "name": "ipython",
    "version": 3
   },
   "file_extension": ".py",
   "mimetype": "text/x-python",
   "name": "python",
   "nbconvert_exporter": "python",
   "pygments_lexer": "ipython3",
   "version": "3.10.11"
  }
 },
 "nbformat": 4,
 "nbformat_minor": 2
}
