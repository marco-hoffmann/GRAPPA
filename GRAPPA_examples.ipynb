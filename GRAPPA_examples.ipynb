{
 "cells": [
  {
   "cell_type": "code",
   "execution_count": null,
   "metadata": {},
   "outputs": [],
   "source": [
    "from src.utils import *\n",
    "%reload_ext autoreload\n",
    "%autoreload 2"
   ]
  },
  {
   "cell_type": "markdown",
   "metadata": {},
   "source": [
    "### Get Direct Vapor Pressure Prediction"
   ]
  },
  {
   "cell_type": "code",
   "execution_count": null,
   "metadata": {},
   "outputs": [],
   "source": [
    "# Define inputs\n",
    "smiles_list = ['CCO', 'c1ccccc1O'] # Define smiles for Ethanol and Phenol\n",
    "temperature_list = [323.0, 293.15] # Define desired temperatures\n",
    "\n",
    "# Define predictor\n",
    "predictor = GRAPPAdirect()\n",
    "\n",
    "# Make prediction\n",
    "prediction_list = predictor(smiles_list, temperature_list)\n",
    "\n",
    "# Print prediction\n",
    "for smiles, temperature, prediction in zip(smiles_list, temperature_list, prediction_list):\n",
    "    print(f'The vapor pressure of {smiles} at {temperature} K is {prediction:.2f} kPa')"
   ]
  },
  {
   "cell_type": "markdown",
   "metadata": {},
   "source": [
    "### Get Antoine parameter prediction "
   ]
  },
  {
   "cell_type": "code",
   "execution_count": null,
   "metadata": {},
   "outputs": [],
   "source": [
    "# Define inputs\n",
    "smiles_list = ['CCO', 'c1ccccc1O']\n",
    "\n",
    "# Define predictor\n",
    "predictor = GRAPPAantoine()\n",
    "\n",
    "# Make prediction\n",
    "prediction_list = predictor(smiles_list)\n",
    "\n",
    "# Print prediction\n",
    "for smiles, prediction in zip(smiles_list, prediction_list):\n",
    "    print(f\"The Antoine parameters of {smiles} are: A = {prediction[0]:.2f}, B = {prediction[1]:.2f}, C = {prediction[2]:.2f}\")"
   ]
  },
  {
   "cell_type": "markdown",
   "metadata": {},
   "source": [
    "### Example of Vapor Pressure Plot"
   ]
  },
  {
   "cell_type": "code",
   "execution_count": null,
   "metadata": {},
   "outputs": [],
   "source": [
    "### Example of vapor pressure plot\n",
    "\n",
    "import numpy as np\n",
    "import matplotlib.pyplot as plt\n",
    "\n",
    "# Define a function to calculate vapor pressure using Antoine equation\n",
    "def antoine_equation(A, B, C, T):\n",
    "    return np.exp(A - B / (T + C))\n",
    "\n",
    "# Define temperature range\n",
    "temperature_range = np.linspace(250, 400, 100)  # Temperature range from 250 K to 400 K\n",
    "\n",
    "# Get Antoine parameters for the first compound in the list\n",
    "example_antoine = prediction_list[0]\n",
    "A, B, C = example_antoine[0], example_antoine[1], example_antoine[2]\n",
    "\n",
    "# Calculate vapor pressures\n",
    "vapor_pressures = antoine_equation(A, B, C, temperature_range)\n",
    "\n",
    "# Plot the vapor pressure curve\n",
    "plt.plot(temperature_range, vapor_pressures)\n",
    "plt.xlabel('T / K')\n",
    "plt.ylabel('$p^s$ / kPa')\n",
    "plt.title('Vapor pressure curve')\n",
    "plt.grid(True)\n",
    "plt.show()"
   ]
  },
  {
   "cell_type": "markdown",
   "metadata": {},
   "source": [
    "### Get Normal Boiling Point Prediction"
   ]
  },
  {
   "cell_type": "code",
   "execution_count": null,
   "metadata": {},
   "outputs": [],
   "source": [
    "# Define inputs\n",
    "smiles_list = ['CCO', 'c1ccccc1O']\n",
    "#pressure_list = [10, 100] # define desired pressures in kPa, default is 101.325 kPa\n",
    "\n",
    "# Define predictor\n",
    "predictor = GRAPPAnormalbp()\n",
    "\n",
    "# Make prediction\n",
    "prediction_list = predictor(smiles_list)\n",
    "#prediction_list = predictor(smiles_list, pressure_list) # to calculate boiling point at different pressures\n",
    "\n",
    "# Print prediction\n",
    "for smiles, prediction in zip(smiles_list, prediction_list):\n",
    "    print(f\"The normal boiling point of {smiles} is {prediction:.2f} K.\")"
   ]
  }
 ],
 "metadata": {
  "kernelspec": {
   "display_name": "grappa_env",
   "language": "python",
   "name": "python3"
  },
  "language_info": {
   "codemirror_mode": {
    "name": "ipython",
    "version": 3
   },
   "file_extension": ".py",
   "mimetype": "text/x-python",
   "name": "python",
   "nbconvert_exporter": "python",
   "pygments_lexer": "ipython3",
   "version": "3.7.16"
  }
 },
 "nbformat": 4,
 "nbformat_minor": 2
}
